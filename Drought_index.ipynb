{
 "cells": [
  {
   "cell_type": "code",
   "execution_count": null,
   "metadata": {
    "vscode": {
     "languageId": "plaintext"
    }
   },
   "outputs": [],
   "source": [
    "#NDVI\n",
    "import rasterio\n",
    "import numpy as np\n",
    "import matplotlib.pyplot as plt\n",
    "\n",
    "# เปิดไฟล์ภาพแยก Band\n",
    "with rasterio.open('B08.tif') as nir_src:   # Near-Infrared (NIR)\n",
    "    nir = nir_src.read(1).astype('float32')\n",
    "\n",
    "with rasterio.open('B04.tif') as red_src:   # Red\n",
    "    red = red_src.read(1).astype('float32')\n",
    "\n",
    "# คำนวณ NDVI\n",
    "ndvi = (nir - red) / (nir + red)\n",
    "ndvi = np.clip(ndvi, -1, 1)  # จำกัดค่าให้อยู่ในช่วง -1 ถึง 1\n",
    "\n",
    "# แสดงผล\n",
    "plt.imshow(ndvi, cmap='RdYlGn')\n",
    "plt.colorbar(label='NDVI')\n",
    "plt.title('NDVI from Sentinel-2')\n",
    "plt.show()\n"
   ]
  },
  {
   "cell_type": "code",
   "execution_count": null,
   "metadata": {
    "vscode": {
     "languageId": "plaintext"
    }
   },
   "outputs": [],
   "source": [
    "#NDWI\n",
    "with rasterio.open('B11.tif') as swir_src:  # Short-Wave Infrared\n",
    "    swir = swir_src.read(1).astype('float32')\n",
    "\n",
    "# คำนวณ NDWI\n",
    "ndwi = (nir - swir) / (nir + swir)\n",
    "ndwi = np.clip(ndwi, -1, 1)\n",
    "\n",
    "plt.imshow(ndwi, cmap='Blues')\n",
    "plt.colorbar(label='NDWI')\n",
    "plt.title('NDWI from Sentinel-2')\n",
    "plt.show()\n",
    "add -drought-index-NDWI"
   ]
  }
 ],
 "metadata": {
  "language_info": {
   "name": "python"
  }
 },
 "nbformat": 4,
 "nbformat_minor": 2
}
# สมมุติว่าเรามี NDVI หลายช่วงเวลา (min, max, current)
# ตัวอย่างนี้ใช้ NDVI ของปัจจุบัน และ min/max แบบสมมุติ

ndvi_min = np.nanmin(ndvi, axis=0)  # หรือโหลดจากไฟล์ NDVI หลายปี
ndvi_max = np.nanmax(ndvi, axis=0)
ndvi_current = ndvi  # จาก NDVI ที่เพิ่งคำนวณ

# คำนวณ VCI
vci = (ndvi_current - ndvi_min) / (ndvi_max - ndvi_min) * 100
vci = np.clip(vci, 0, 100)

plt.imshow(vci, cmap='YlOrRd')
plt.colorbar(label='VCI (%)')
plt.title('Vegetation Condition Index (VCI)')
plt.show()
