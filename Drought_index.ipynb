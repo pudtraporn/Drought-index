{
 "cells": [
  {
   "cell_type": "code",
   "execution_count": null,
   "metadata": {
    "vscode": {
     "languageId": "plaintext"
    }
   },
   "outputs": [],
   "source": [
    "#NDVI\n",
    "import rasterio\n",
    "import numpy as np\n",
    "import matplotlib.pyplot as plt\n",
    "\n",
    "# เปิดไฟล์ภาพแยก Band\n",
    "with rasterio.open('B08.tif') as nir_src:   # Near-Infrared (NIR)\n",
    "    nir = nir_src.read(1).astype('float32')\n",
    "\n",
    "with rasterio.open('B04.tif') as red_src:   # Red\n",
    "    red = red_src.read(1).astype('float32')\n",
    "\n",
    "# คำนวณ NDVI\n",
    "ndvi = (nir - red) / (nir + red)\n",
    "ndvi = np.clip(ndvi, -1, 1)  # จำกัดค่าให้อยู่ในช่วง -1 ถึง 1\n",
    "\n",
    "# แสดงผล\n",
    "plt.imshow(ndvi, cmap='RdYlGn')\n",
    "plt.colorbar(label='NDVI')\n",
    "plt.title('NDVI from Sentinel-2')\n",
    "plt.show()\n"
   ]
  },
  {
   "cell_type": "code",
   "execution_count": null,
   "metadata": {
    "vscode": {
     "languageId": "plaintext"
    }
   },
   "outputs": [],
   "source": [
    "# เปิดภาพ\n",
    "with rasterio.open('B11.tif') as swir_src:  # Short-Wave Infrared\n",
    "    swir = swir_src.read(1).astype('float32')\n",
    "\n",
    "# คำนวณ NDWI\n",
    "ndwi = (nir - swir) / (nir + swir)\n",
    "ndwi = np.clip(ndwi, -1, 1)\n",
    "\n",
    "plt.imshow(ndwi, cmap='Blues')\n",
    "plt.colorbar(label='NDWI')\n",
    "plt.title('NDWI from Sentinel-2')\n",
    "plt.show()\n"
   ]
  }
 ],
 "metadata": {
  "language_info": {
   "name": "python"
  }
 },
 "nbformat": 4,
 "nbformat_minor": 2
}
