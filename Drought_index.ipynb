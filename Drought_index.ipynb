{
 "cells": [
  {
   "cell_type": "code",
   "execution_count": null,
   "metadata": {
    "vscode": {
     "languageId": "plaintext"
    }
   },
   "outputs": [],
   "source": [
    "#NDVI\n",
    "import rasterio\n",
    "import numpy as np\n",
    "import matplotlib.pyplot as plt\n",
    "\n",
    "# เปิดไฟล์ภาพแยก Band\n",
    "with rasterio.open('B08.tif') as nir_src:   # Near-Infrared (NIR)\n",
    "    nir = nir_src.read(1).astype('float32')\n",
    "\n",
    "with rasterio.open('B04.tif') as red_src:   # Red\n",
    "    red = red_src.read(1).astype('float32')\n",
    "\n",
    "# คำนวณ NDVI\n",
    "ndvi = (nir - red) / (nir + red)\n",
    "ndvi = np.clip(ndvi, -1, 1)  # จำกัดค่าให้อยู่ในช่วง -1 ถึง 1\n",
    "\n",
    "# แสดงผล\n",
    "plt.imshow(ndvi, cmap='RdYlGn')\n",
    "plt.colorbar(label='NDVI')\n",
    "plt.title('NDVI from Sentinel-2')\n",
    "plt.show()\n"
   ]
  }
 ],
 "metadata": {
  "language_info": {
   "name": "python"
  }
 },
 "nbformat": 4,
 "nbformat_minor": 2
}
